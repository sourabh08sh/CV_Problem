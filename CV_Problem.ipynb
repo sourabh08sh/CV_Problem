{
 "cells": [
  {
   "cell_type": "markdown",
   "metadata": {},
   "source": [
    "## Import libraries necessary for this project"
   ]
  },
  {
   "cell_type": "code",
   "execution_count": 1,
   "metadata": {},
   "outputs": [
    {
     "name": "stderr",
     "output_type": "stream",
     "text": [
      "Using TensorFlow backend.\n"
     ]
    }
   ],
   "source": [
    "from sklearn.model_selection import train_test_split\n",
    "import pandas as pd\n",
    "\n",
    "from keras.models import Sequential\n",
    "from keras.layers import Conv2D\n",
    "from keras.layers import MaxPooling2D\n",
    "from keras.layers import Flatten\n",
    "from keras.layers import Dense\n",
    "from keras.layers import Dropout\n",
    "\n",
    "%matplotlib inline"
   ]
  },
  {
   "cell_type": "markdown",
   "metadata": {},
   "source": [
    "### As dataset files are given in .pkl format so we will import pickle library to open them and after this we will convert list into array for working on data."
   ]
  },
  {
   "cell_type": "code",
   "execution_count": 2,
   "metadata": {
    "scrolled": true
   },
   "outputs": [],
   "source": [
    "import pickle\n",
    "import numpy as np\n",
    "\n",
    "with open('train_image.pkl', 'rb') as f:\n",
    "    train_image = pickle.load(f)\n",
    "    \n",
    "with open('train_label.pkl', 'rb') as a:\n",
    "    train_label = pickle.load(a) \n",
    "    \n",
    "with open('test_image.pkl', 'rb') as b:\n",
    "    test_image = pickle.load(b)    \n",
    "    \n",
    "train_image = np.array(train_image)\n",
    "train_label = np.array(train_label)\n",
    "test_image = np.array(test_image) "
   ]
  },
  {
   "cell_type": "code",
   "execution_count": 3,
   "metadata": {
    "scrolled": false
   },
   "outputs": [
    {
     "data": {
      "text/plain": [
       "3    2000\n",
       "6    2000\n",
       "2    2000\n",
       "0    2000\n",
       "Name: 0, dtype: int64"
      ]
     },
     "execution_count": 3,
     "metadata": {},
     "output_type": "execute_result"
    }
   ],
   "source": [
    "dataframe = pd.DataFrame(train_label)\n",
    "dataframe[0].value_counts()  #for checking the data is balanced or not"
   ]
  },
  {
   "cell_type": "code",
   "execution_count": 4,
   "metadata": {
    "scrolled": false
   },
   "outputs": [
    {
     "data": {
      "text/plain": [
       "((8000, 28, 28, 1), (2000, 28, 28, 1), (8000,))"
      ]
     },
     "execution_count": 4,
     "metadata": {},
     "output_type": "execute_result"
    }
   ],
   "source": [
    "#reshaping data as needed by the model\n",
    "\n",
    "train_image = np.reshape(train_image,(-1,28,28,1))\n",
    "test_image = np.reshape(test_image,(-1,28,28,1))\n",
    "train_image.shape, test_image.shape, train_label.shape"
   ]
  },
  {
   "cell_type": "markdown",
   "metadata": {},
   "source": [
    "## Shuffle and split the data into training and validation subsets"
   ]
  },
  {
   "cell_type": "code",
   "execution_count": 5,
   "metadata": {
    "scrolled": true
   },
   "outputs": [],
   "source": [
    "train_x, val_x, train_y, val_y = train_test_split(train_image, train_label, test_size=0.1)"
   ]
  },
  {
   "cell_type": "markdown",
   "metadata": {},
   "source": [
    "### Normalising the images for getting good results"
   ]
  },
  {
   "cell_type": "code",
   "execution_count": 6,
   "metadata": {},
   "outputs": [],
   "source": [
    "train_x = train_x/255.0\n",
    "val_x = val_x/255.0\n",
    "test_image = test_image/255.0"
   ]
  },
  {
   "cell_type": "markdown",
   "metadata": {},
   "source": [
    "mapping the classes as they are sparsely distributed"
   ]
  },
  {
   "cell_type": "code",
   "execution_count": 7,
   "metadata": {},
   "outputs": [],
   "source": [
    "mapping = { 0:0,2:1,3:2,6:3 }\n",
    "\n",
    "train_y = [mapping[i] for i in train_y]\n",
    "val_y = [mapping[i] for i in val_y]"
   ]
  },
  {
   "cell_type": "markdown",
   "metadata": {},
   "source": [
    "## Building CNN model"
   ]
  },
  {
   "cell_type": "code",
   "execution_count": 8,
   "metadata": {},
   "outputs": [],
   "source": [
    "model = Sequential()"
   ]
  },
  {
   "cell_type": "code",
   "execution_count": 9,
   "metadata": {},
   "outputs": [
    {
     "name": "stdout",
     "output_type": "stream",
     "text": [
      "WARNING:tensorflow:From D:\\anaconda\\envs\\TensorFlowGPU\\lib\\site-packages\\tensorflow\\python\\framework\\op_def_library.py:263: colocate_with (from tensorflow.python.framework.ops) is deprecated and will be removed in a future version.\n",
      "Instructions for updating:\n",
      "Colocations handled automatically by placer.\n",
      "WARNING:tensorflow:From D:\\anaconda\\envs\\TensorFlowGPU\\lib\\site-packages\\keras\\backend\\tensorflow_backend.py:3445: calling dropout (from tensorflow.python.ops.nn_ops) with keep_prob is deprecated and will be removed in a future version.\n",
      "Instructions for updating:\n",
      "Please use `rate` instead of `keep_prob`. Rate should be set to `rate = 1 - keep_prob`.\n"
     ]
    }
   ],
   "source": [
    "#adding layers and forming the model\n",
    "model.add(Conv2D(64,(2,2),strides=(1,1),padding=\"Same\",activation=\"relu\",input_shape=(28,28,1)))\n",
    "model.add(MaxPooling2D(padding=\"same\"))\n",
    "\n",
    "model.add(Conv2D(32,(2,2),strides=(1,1),padding=\"same\",activation=\"relu\"))\n",
    "model.add(MaxPooling2D(1, padding=\"same\"))\n",
    "\n",
    "model.add(Flatten())\n",
    "\n",
    "model.add(Dense(256,activation=\"relu\"))\n",
    "model.add(Dense(128,activation=\"relu\"))\n",
    "model.add(Dropout(rate = 0.8))\n",
    "model.add(Dense(4,activation=\"sigmoid\"))"
   ]
  },
  {
   "cell_type": "code",
   "execution_count": 10,
   "metadata": {
    "scrolled": true
   },
   "outputs": [
    {
     "name": "stdout",
     "output_type": "stream",
     "text": [
      "WARNING:tensorflow:From D:\\anaconda\\envs\\TensorFlowGPU\\lib\\site-packages\\tensorflow\\python\\ops\\math_ops.py:3066: to_int32 (from tensorflow.python.ops.math_ops) is deprecated and will be removed in a future version.\n",
      "Instructions for updating:\n",
      "Use tf.cast instead.\n",
      "Train on 7200 samples, validate on 800 samples\n",
      "Epoch 1/10\n",
      "7200/7200 [==============================] - 4s 560us/step - loss: 0.9218 - acc: 0.6190 - val_loss: 0.6555 - val_acc: 0.7338\n",
      "Epoch 2/10\n",
      "7200/7200 [==============================] - 1s 137us/step - loss: 0.6692 - acc: 0.7467 - val_loss: 0.4874 - val_acc: 0.8025\n",
      "Epoch 3/10\n",
      "7200/7200 [==============================] - 1s 137us/step - loss: 0.5517 - acc: 0.7946 - val_loss: 0.4484 - val_acc: 0.8112\n",
      "Epoch 4/10\n",
      "7200/7200 [==============================] - 1s 137us/step - loss: 0.4979 - acc: 0.8164 - val_loss: 0.4068 - val_acc: 0.8425\n",
      "Epoch 5/10\n",
      "7200/7200 [==============================] - 1s 137us/step - loss: 0.4594 - acc: 0.8329 - val_loss: 0.3862 - val_acc: 0.8400\n",
      "Epoch 6/10\n",
      "7200/7200 [==============================] - 1s 136us/step - loss: 0.4110 - acc: 0.8444 - val_loss: 0.3692 - val_acc: 0.8425\n",
      "Epoch 7/10\n",
      "7200/7200 [==============================] - 1s 137us/step - loss: 0.3842 - acc: 0.8554 - val_loss: 0.3574 - val_acc: 0.8437\n",
      "Epoch 8/10\n",
      "7200/7200 [==============================] - 1s 137us/step - loss: 0.3634 - acc: 0.8658 - val_loss: 0.3528 - val_acc: 0.8463\n",
      "Epoch 9/10\n",
      "7200/7200 [==============================] - 1s 136us/step - loss: 0.3361 - acc: 0.8713 - val_loss: 0.3503 - val_acc: 0.8412\n",
      "Epoch 10/10\n",
      "7200/7200 [==============================] - 1s 136us/step - loss: 0.3174 - acc: 0.8806 - val_loss: 0.3443 - val_acc: 0.8662\n"
     ]
    },
    {
     "data": {
      "text/plain": [
       "<keras.callbacks.History at 0x20a4ed9e748>"
      ]
     },
     "execution_count": 10,
     "metadata": {},
     "output_type": "execute_result"
    }
   ],
   "source": [
    "model.compile(optimizer='adam', loss='sparse_categorical_crossentropy', metrics=['accuracy'])\n",
    "model.fit(train_x, train_y, batch_size=100, epochs=10, validation_data=(val_x, val_y)) #fitting the model on training and validation set"
   ]
  },
  {
   "cell_type": "code",
   "execution_count": 11,
   "metadata": {
    "scrolled": true
   },
   "outputs": [],
   "source": [
    "pred = model.predict(test_image) #predicting classes/labels for test data\n",
    "\n",
    "demapping = { 0:0,1:2,2:3,3:6 }  #demapping the labels as we want result in same format as of train_labels\n",
    "pred_classes = [demapping[i.argmax()] for i in pred]\n",
    "\n",
    "df = pd.DataFrame(pred_classes, columns = ['predicted class']) "
   ]
  },
  {
   "cell_type": "code",
   "execution_count": 12,
   "metadata": {
    "scrolled": true
   },
   "outputs": [],
   "source": [
    "df.to_csv(\"./Result.csv\", index_label=['Test_image_index'] ) #converting dataframe into csv file"
   ]
  }
 ],
 "metadata": {
  "kernelspec": {
   "display_name": "Python 3",
   "language": "python",
   "name": "python3"
  },
  "language_info": {
   "codemirror_mode": {
    "name": "ipython",
    "version": 3
   },
   "file_extension": ".py",
   "mimetype": "text/x-python",
   "name": "python",
   "nbconvert_exporter": "python",
   "pygments_lexer": "ipython3",
   "version": "3.6.8"
  }
 },
 "nbformat": 4,
 "nbformat_minor": 2
}
